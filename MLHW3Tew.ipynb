{
 "cells": [
  {
   "cell_type": "markdown",
   "id": "63ec731a",
   "metadata": {},
   "source": [
    "### Machine Learning Assignment 3, Linear Regression Classes\n",
    "#### Alexandra Tew 10/31/23"
   ]
  },
  {
   "cell_type": "markdown",
   "id": "ab27f7cd",
   "metadata": {},
   "source": [
    "#### 1. Linear regression - Use x and y in linear regression test data.csv for writing and debugging your code. For both of the Python classes you implement, return the intercept θ0, the coefficient θ1, the R2 value, the F statistic and the associated p-value.\n",
    "(a) (20 points) Implement a Python class to do linear regression using the analytical solution to\n",
    "least-squared problems."
   ]
  },
  {
   "cell_type": "code",
   "execution_count": 1,
   "id": "de2df2d2",
   "metadata": {},
   "outputs": [],
   "source": [
    "import numpy as np\n",
    "from scipy import stats\n",
    "\n",
    "class LinearRegression:\n",
    "    \n",
    "## Use this to call and return the values from the class (i.e. v1, v2, v3 = linearRegression(x,y))\n",
    "#     def __call__(self):\n",
    "#         return self.value\n",
    "\n",
    "    def fit(self, X, y):\n",
    "        # Add a column of ones to the input data for the intercept term\n",
    "        X = np.column_stack((np.ones(len(X)), X))\n",
    "        n, p = X.shape\n",
    "\n",
    "        # Calculate coefficients\n",
    "        XTX = np.dot(X.T, X)\n",
    "        XTy = np.dot(X.T, y)\n",
    "        self.coefficients = np.linalg.solve(XTX, XTy)\n",
    "\n",
    "        # Calculate the predicted values\n",
    "        y_pred = np.dot(X, self.coefficients)\n",
    "\n",
    "        # Store predicted values as an attribute\n",
    "        self.y_hat = y_pred\n",
    "\n",
    "        # Calculate R2 value\n",
    "        y_mean = np.mean(y)\n",
    "        ssr = np.sum((y_pred - y_mean) ** 2)\n",
    "        sst = np.sum((y - y_mean) ** 2)\n",
    "        self.r2 = ssr / sst\n",
    "\n",
    "        # Calculate the F-statistic and p-value\n",
    "        f_stat = (self.r2 / p) / ((1 - self.r2) / (n - p - 1))\n",
    "        df1 = p\n",
    "        df2 = n - p - 1\n",
    "        self.p_value = stats.f.sf(f_stat, df1, df2)\n",
    "\n",
    "        self.f_stat = f_stat\n",
    "\n",
    "        # Extract intercept and coefficient values\n",
    "        self.intercept = self.coefficients[0]\n",
    "        self.coefficient = self.coefficients[1]\n",
    "\n",
    "    def predict_all(self, X):\n",
    "        X = np.column_stack((np.ones(len(X)), X))\n",
    "        y_pred = np.dot(X, self.coefficients)\n",
    "        return y_pred\n",
    "\n",
    "    def predict_X(self, X, y):\n",
    "        # This method tests the individual predictor significance like in LinReg\n",
    "        Xmean = np.mean(X)\n",
    "        ymean = np.mean(y)\n",
    "\n",
    "        cov = np.cov(X, y, ddof=0)[0, 1]\n",
    "        var = np.var(X, ddof=0)\n",
    "        b1hat = cov / var\n",
    "        b0hat = ymean - b1hat * Xmean\n",
    "\n",
    "        yhat = b0hat + b1hat * X\n",
    "        sst = np.sum((y - ymean) ** 2)\n",
    "        ssr = np.sum((yhat - ymean) ** 2)\n",
    "        sserr = np.sum((y - yhat) ** 2)\n",
    "        mst = sst / (len(y) - 1)\n",
    "        msr = ssr / 1\n",
    "        mserr = sserr / (len(y) - 2)\n",
    "        Fstat = msr / mserr\n",
    "        R2 = ssr / sst\n",
    "        pvalue = 1.0 - stats.f.cdf(Fstat, 1, len(y) - 2)\n",
    "\n",
    "        return b0hat, b1hat, R2, Fstat, pvalue, yhat\n",
    "\n",
    "    def print_results(self):\n",
    "        print(f'Intercept (θ0): {self.intercept}')\n",
    "        print(f'Coefficient (θ1): {self.coefficient}')\n",
    "        print(f'R2 Value: {self.r2}')\n",
    "        print(f'F Statistic: {self.f_stat}')\n",
    "        print(f'P-Value: {self.p_value}')\n",
    "        print(f'Y-hat: {self.y_hat}\\n')"
   ]
  },
  {
   "cell_type": "code",
   "execution_count": 2,
   "id": "a8fe90e2",
   "metadata": {},
   "outputs": [
    {
     "name": "stdout",
     "output_type": "stream",
     "text": [
      "Overall Model Significance:\n",
      "Intercept (θ0): 0.024525025871305253\n",
      "Coefficient (θ1): 1.9340058850010586\n",
      "R2 Value: 0.9292357328496273\n",
      "F Statistic: 111.61712043788528\n",
      "P-Value: 1.672704070528177e-10\n",
      "Y-hat: [-3.68707675 -3.29395013 -3.16945243 -0.87717413 -0.56608324 -0.45830178\n",
      "  0.24805681  0.37174239  0.40214744  0.55091935  0.81950492  1.15316532\n",
      "  1.68923503  2.1763522   2.28131679  2.59767998  2.88694771  3.05529018\n",
      "  3.31695064  3.61143106]\n",
      "\n",
      "Individual Significance of X:\n",
      "Intercept: 0.024525025871305006\n",
      "Coefficient: 1.9340058850010582\n",
      "R2: 0.9292357328496267\n",
      "F Statistic: 236.36566680963762\n",
      "P-Value: 8.528955319775378e-12\n"
     ]
    }
   ],
   "source": [
    "# Answer for Question 1, part a\n",
    "\n",
    "import pandas as pd\n",
    "\n",
    "# Read the CSV file into a DataFrame\n",
    "data = pd.read_csv('linear_regression_test_data.csv')\n",
    "\n",
    "# Set 'x' as the feature (independent variable) and 'y' as the target variable\n",
    "X = data['x'].values\n",
    "y = data['y'].values\n",
    "\n",
    "# Create an instance of the custom linear regression model\n",
    "model = LinearRegression()\n",
    "\n",
    "# Fit the model to the data\n",
    "model.fit(X, y)\n",
    "\n",
    "# Print the results of the overall model significance\n",
    "print('Overall Model Significance:')\n",
    "model.print_results()\n",
    "\n",
    "# Test individual predictor significance\n",
    "b0, b1, r2, f_stat, p_value, y_hat = model.predict_X(X, y)\n",
    "\n",
    "# Print individual predictor significance\n",
    "print(f'Individual Significance of X:')\n",
    "print(f'Intercept: {b0}')\n",
    "print(f'Coefficient: {b1}')\n",
    "print(f'R2: {r2}')\n",
    "print(f'F Statistic: {f_stat}')\n",
    "print(f'P-Value: {p_value}')"
   ]
  },
  {
   "cell_type": "markdown",
   "id": "21233217",
   "metadata": {},
   "source": [
    "(b) (30 points) Implement a Python class for gradient descent-based linear regression. Use ∆J =\n",
    "0.00001 as the stopping criterion."
   ]
  },
  {
   "cell_type": "code",
   "execution_count": 3,
   "id": "4080e2ee",
   "metadata": {},
   "outputs": [],
   "source": [
    "# Python Class for Gradient Descent Linear Regression\n",
    "\n",
    "import numpy as np\n",
    "from scipy.stats import f\n",
    "\n",
    "class GradientDescentLinearRegression:\n",
    "    def __init__(self, learning_rate=0.01, max_iterations=1000, tolerance=0.00001):\n",
    "        self.learning_rate = learning_rate\n",
    "        self.max_iterations = max_iterations\n",
    "        self.tolerance = tolerance\n",
    "\n",
    "    def normalize(self, X):\n",
    "        mean = np.mean(X, axis=0)\n",
    "        std = np.std(X, axis=0)\n",
    "        X_normalized = (X - mean) / std\n",
    "        return X_normalized\n",
    "\n",
    "    def fit(self, X, y):\n",
    "        # Normalize the input data\n",
    "        X = self.normalize(X)\n",
    "\n",
    "        # Add a column of ones to the input data for the intercept term\n",
    "        X = np.column_stack((np.ones(len(X)), X))\n",
    "\n",
    "        n, p = X.shape\n",
    "        self.coefficients = np.zeros(p)\n",
    "        prev_cost = np.inf\n",
    "\n",
    "        for i in range(self.max_iterations):\n",
    "            y_pred = np.dot(X, self.coefficients)\n",
    "            error = y_pred - y\n",
    "            gradient = np.dot(X.T, error) / n\n",
    "            self.coefficients -= self.learning_rate * gradient\n",
    "\n",
    "            cost = np.mean(error ** 2)\n",
    "            if abs(prev_cost - cost) < self.tolerance:\n",
    "                break\n",
    "            prev_cost = cost\n",
    "\n",
    "        # Calculate R2 value\n",
    "        y_pred = np.dot(X, self.coefficients)\n",
    "        y_mean = np.mean(y)\n",
    "        ssr = np.sum((y_pred - y_mean) ** 2)\n",
    "        sst = np.sum((y - y_mean) ** 2)\n",
    "        self.r2 = ssr / sst\n",
    "\n",
    "        # Calculate the F-statistic\n",
    "        f_stat = ((ssr / p) / ((sst - ssr) / (n - p - 1)))\n",
    "        self.f_stat = f_stat\n",
    "\n",
    "        # Calculate the p-value for the F-statistic\n",
    "        df1 = p\n",
    "        df2 = n - p - 1\n",
    "        p_value = f.sf(f_stat, df1, df2)\n",
    "        self.p_value = p_value\n",
    "\n",
    "        # Extract intercept and coefficient values\n",
    "        self.intercept = self.coefficients[0]\n",
    "        self.coefficient = self.coefficients[1]\n",
    "\n",
    "    def predict(self, X):\n",
    "        # Normalize the input data\n",
    "        X = self.normalize(X)\n",
    "\n",
    "        # Add a column of ones to the input data\n",
    "        X = np.column_stack((np.ones(len(X)), X))\n",
    "        y_pred = np.dot(X, self.coefficients)\n",
    "        return y_pred"
   ]
  },
  {
   "cell_type": "code",
   "execution_count": 4,
   "id": "26cfd484",
   "metadata": {},
   "outputs": [],
   "source": [
    "# Read the CSV file into a DataFrame\n",
    "data = pd.read_csv('linear_regression_test_data.csv')\n",
    "\n",
    "# Extract the input features (X) and target variable (y)\n",
    "X = data['x']\n",
    "y = data['y']\n",
    "\n",
    "# Create an instance of the class\n",
    "gdl_regression = GradientDescentLinearRegression()\n",
    "\n",
    "# Fit the model with test data\n",
    "gdl_regression.fit(X, y)"
   ]
  },
  {
   "cell_type": "code",
   "execution_count": 5,
   "id": "4c4d004c",
   "metadata": {},
   "outputs": [
    {
     "name": "stdout",
     "output_type": "stream",
     "text": [
      "Intercept (θ0): 0.6489975393213059\n",
      "Coefficient (θ1): 2.1135222113594905\n",
      "R2 Value: 0.9110803568447717\n",
      "F Statistic: 236.36566680963762\n",
      "P-Value: 1.1654148423685662e-09\n"
     ]
    }
   ],
   "source": [
    "# Get the results\n",
    "intercept = gdl_regression.intercept\n",
    "coefficient = gdl_regression.coefficient\n",
    "r2_value = gdl_regression.r2\n",
    "f_statistic = gdl_regression.f_stat\n",
    "p_value = gdl_regression.p_value\n",
    "\n",
    "# Print the results\n",
    "print(f'Intercept (θ0): {intercept}')\n",
    "print(f'Coefficient (θ1): {coefficient}')\n",
    "print(f'R2 Value: {r2_value}')\n",
    "print(f'F Statistic: {f_stat}')\n",
    "print(f'P-Value: {p_value}')"
   ]
  },
  {
   "cell_type": "markdown",
   "id": "eff6b21a",
   "metadata": {},
   "source": [
    "#### 2. PCA and linear regression\n",
    "(a) (20 points) The data in linear regression test data.csv contains x, y, and y−theoretical.\n",
    "Perform PCA on x and y using your own PCA class. Plot y vs x, y-theoretical vs x, and the PC1\n",
    "axis in the same plot."
   ]
  },
  {
   "cell_type": "code",
   "execution_count": 6,
   "id": "38d53194",
   "metadata": {},
   "outputs": [],
   "source": [
    "import matplotlib.pyplot as plt\n",
    "\n",
    "class MyPCA:\n",
    "    def __init__(self, n_components):\n",
    "        self.n_components = n_components\n",
    "        self.components = None\n",
    "        self.mean = None\n",
    "\n",
    "    def fit(self, X):\n",
    "        self.mean = np.mean(X, axis=0)\n",
    "        X_centered = X - self.mean\n",
    "        cov_matrix = np.cov(X_centered, rowvar=False)\n",
    "        eigenvalues, eigenvectors = np.linalg.eigh(cov_matrix)\n",
    "        sorted_indices = np.argsort(eigenvalues)[::-1]\n",
    "        self.components = eigenvectors[:, sorted_indices[:self.n_components]]\n",
    "\n",
    "    def transform(self, X):\n",
    "        X_centered = X - self.mean\n",
    "        return np.dot(X_centered, self.components)"
   ]
  },
  {
   "cell_type": "code",
   "execution_count": 7,
   "id": "7ec9aa25",
   "metadata": {},
   "outputs": [],
   "source": [
    "# Extract 'x', 'y', and 'y-theoretical' columns\n",
    "X = data[['x', 'y']].values\n",
    "y_theoretical = data['y_theoretical'].values"
   ]
  },
  {
   "cell_type": "code",
   "execution_count": 8,
   "id": "cf42c569",
   "metadata": {},
   "outputs": [],
   "source": [
    "# Initialize PCA class and fit it to x and y\n",
    "my_pca = MyPCA(n_components=1)\n",
    "my_pca.fit(X)\n",
    "\n",
    "# Transform 'x' and 'y' using your PCA class\n",
    "X_pca = my_pca.transform(X)"
   ]
  },
  {
   "cell_type": "code",
   "execution_count": 9,
   "id": "bda47384",
   "metadata": {},
   "outputs": [
    {
     "data": {
      "image/png": "[encoded data removed]",
      "text/plain": [
       "<Figure size 640x480 with 1 Axes>"
      ]
     },
     "metadata": {},
     "output_type": "display_data"
    }
   ],
   "source": [
    "# To plot them all together we can overlay them using this method:\n",
    "\n",
    "# Create a figure/axis\n",
    "fig, ax = plt.subplots()\n",
    "\n",
    "# Plot 'y' vs 'x' in blue\n",
    "ax.scatter(X[:, 0], X[:, 1], label='y vs x', color='blue')\n",
    "\n",
    "# Plot 'y-theoretical' vs 'x' in green\n",
    "ax.scatter(X[:, 0], y_theoretical, label='y-theoretical vs x', color='green')\n",
    "\n",
    "# Plot the first principal component (PC1) axis in red\n",
    "ax.scatter(X_pca, np.zeros_like(X_pca), label='PC1 axis', color='red', marker='x')\n",
    "\n",
    "# Set labels and title\n",
    "ax.set_xlabel('x')\n",
    "ax.set_ylabel('y, y-theoretical, PC1')\n",
    "ax.set_title('Overlay of y vs x, y-theoretical vs x, and PC1 Axis')\n",
    "\n",
    "# Add a legend\n",
    "ax.legend()\n",
    "\n",
    "# Display the plot\n",
    "plt.show()"
   ]
  },
  {
   "cell_type": "markdown",
   "id": "0b3d4a57",
   "metadata": {},
   "source": [
    "(b) (30 points) Perform linear regression on x and y with x being the independent variable and y\n",
    "being the dependent variable. Plot the regression line in the same plot as you obtained in (1).\n",
    "Compare the PC1 axis and the regression line obtained above. Are they very different or very\n",
    "similar? Could you explain why this happens?"
   ]
  },
  {
   "cell_type": "code",
   "execution_count": 78,
   "id": "746ba94c",
   "metadata": {},
   "outputs": [
    {
     "data": {
      "image/png": "[encoded data removed]",
      "text/plain": [
       "<Figure size 640x480 with 1 Axes>"
      ]
     },
     "metadata": {},
     "output_type": "display_data"
    }
   ],
   "source": [
    "from scipy.stats import linregress\n",
    "\n",
    "# Linear regression for y as a function of x\n",
    "slope, intercept, r_value, p_value, std_err = linregress(X[:, 0], X[:, 1])\n",
    "\n",
    "# Create a figure and axis\n",
    "fig, ax = plt.subplots()\n",
    "\n",
    "# Scatter plot of 'y vs x' in blue\n",
    "ax.scatter(X[:, 0], X[:, 1], label='y vs x', color='blue')\n",
    "\n",
    "# Scatter plot of 'y-theoretical vs x' in green\n",
    "ax.scatter(X[:, 0], y_theoretical, label='y-theoretical vs x', color='green')\n",
    "\n",
    "# Scatter plot of the first principal component (PC1) axis in red\n",
    "ax.scatter(X_pca, np.zeros_like(X_pca), label='PC1 axis', color='red', marker='x')\n",
    "\n",
    "# Plot the linear regression line in orange\n",
    "x_regression = np.linspace(X[:, 0].min(), X[:, 0].max(), 100)\n",
    "y_regression = slope * x_regression + intercept\n",
    "ax.plot(x_regression, y_regression, label='Regression Line', color='orange')\n",
    "\n",
    "# Set labels and title\n",
    "ax.set_xlabel('x')\n",
    "ax.set_ylabel('y, y-theoretical, PC1')\n",
    "ax.set_title('Comparison of y vs x, y-theoretical vs x, PC1 Axis, and Regression Line')\n",
    "\n",
    "# Add a legend\n",
    "ax.legend()\n",
    "\n",
    "# Display the plot\n",
    "plt.show()"
   ]
  },
  {
   "cell_type": "markdown",
   "id": "e51129a6",
   "metadata": {},
   "source": [
    "The PC1 axis represents the primary direction of data variability, which is predominantly horizontal in this dataset. The regression line which is increasing from left to right indicates a positive linear relationship between x and y. They are similar in the clustering of the data points to one another as they both reflect the data but they do so in very different ways and for unique purposes. They are different in direction as PC1 displays the axis that describes the maximum amount of variance within the data and the regression line shows the linear relationship of the data points directly. The differences can be explained by the two methods offering differing information to the analyst. "
   ]
  },
  {
   "cell_type": "code",
   "execution_count": null,
   "id": "fa465785",
   "metadata": {},
   "outputs": [],
   "source": []
  }
 ],
 "metadata": {
  "kernelspec": {
   "display_name": "Python 3 (ipykernel)",
   "language": "python",
   "name": "python3"
  },
  "language_info": {
   "codemirror_mode": {
    "name": "ipython",
    "version": 3
   },
   "file_extension": ".py",
   "mimetype": "text/x-python",
   "name": "python",
   "nbconvert_exporter": "python",
   "pygments_lexer": "ipython3",
   "version": "3.9.13"
  }
 },
 "nbformat": 4,
 "nbformat_minor": 5
}
